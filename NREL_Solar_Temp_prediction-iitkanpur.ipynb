{
 "cells": [
  {
   "cell_type": "code",
   "execution_count": null,
   "metadata": {},
   "outputs": [],
   "source": []
  },
  {
   "cell_type": "code",
   "execution_count": 148,
   "metadata": {},
   "outputs": [],
   "source": [
    "import pandas as pd\n",
    "import numpy as np\n",
    "import matplotlib.pyplot as plt\n",
    "import seaborn as sns\n",
    "import pprint\n",
    "%matplotlib inline\n",
    "from tensorflow import keras\n",
    "from tensorflow.keras import layers\n",
    "from keras.layers.core import Dense, Activation, Dropout\n",
    "from keras.layers.recurrent import LSTM\n",
    "from keras.models import Sequential\n",
    "\n",
    "import matplotlib\n"
   ]
  },
  {
   "cell_type": "code",
   "execution_count": 244,
   "metadata": {},
   "outputs": [],
   "source": [
    "sd=pd.read_csv(\"NREL_data.csv\")"
   ]
  },
  {
   "cell_type": "code",
   "execution_count": 245,
   "metadata": {},
   "outputs": [
    {
     "data": {
      "text/html": [
       "<div>\n",
       "<style scoped>\n",
       "    .dataframe tbody tr th:only-of-type {\n",
       "        vertical-align: middle;\n",
       "    }\n",
       "\n",
       "    .dataframe tbody tr th {\n",
       "        vertical-align: top;\n",
       "    }\n",
       "\n",
       "    .dataframe thead th {\n",
       "        text-align: right;\n",
       "    }\n",
       "</style>\n",
       "<table border=\"1\" class=\"dataframe\">\n",
       "  <thead>\n",
       "    <tr style=\"text-align: right;\">\n",
       "      <th></th>\n",
       "      <th>Year</th>\n",
       "      <th>Month</th>\n",
       "      <th>Day</th>\n",
       "      <th>Hour</th>\n",
       "      <th>Minute</th>\n",
       "      <th>DHI</th>\n",
       "      <th>DNI</th>\n",
       "      <th>Dew Point</th>\n",
       "      <th>Temperature</th>\n",
       "      <th>Pressure</th>\n",
       "      <th>Wind Speed</th>\n",
       "    </tr>\n",
       "  </thead>\n",
       "  <tbody>\n",
       "    <tr>\n",
       "      <th>0</th>\n",
       "      <td>2012</td>\n",
       "      <td>1</td>\n",
       "      <td>1</td>\n",
       "      <td>0</td>\n",
       "      <td>30</td>\n",
       "      <td>0</td>\n",
       "      <td>0</td>\n",
       "      <td>20</td>\n",
       "      <td>21.449194</td>\n",
       "      <td>974</td>\n",
       "      <td>2</td>\n",
       "    </tr>\n",
       "    <tr>\n",
       "      <th>1</th>\n",
       "      <td>2012</td>\n",
       "      <td>1</td>\n",
       "      <td>1</td>\n",
       "      <td>1</td>\n",
       "      <td>30</td>\n",
       "      <td>0</td>\n",
       "      <td>0</td>\n",
       "      <td>19</td>\n",
       "      <td>21.174410</td>\n",
       "      <td>973</td>\n",
       "      <td>2</td>\n",
       "    </tr>\n",
       "    <tr>\n",
       "      <th>2</th>\n",
       "      <td>2012</td>\n",
       "      <td>1</td>\n",
       "      <td>1</td>\n",
       "      <td>2</td>\n",
       "      <td>30</td>\n",
       "      <td>0</td>\n",
       "      <td>0</td>\n",
       "      <td>19</td>\n",
       "      <td>20.841860</td>\n",
       "      <td>973</td>\n",
       "      <td>2</td>\n",
       "    </tr>\n",
       "    <tr>\n",
       "      <th>3</th>\n",
       "      <td>2012</td>\n",
       "      <td>1</td>\n",
       "      <td>1</td>\n",
       "      <td>3</td>\n",
       "      <td>30</td>\n",
       "      <td>0</td>\n",
       "      <td>0</td>\n",
       "      <td>19</td>\n",
       "      <td>20.361494</td>\n",
       "      <td>973</td>\n",
       "      <td>2</td>\n",
       "    </tr>\n",
       "    <tr>\n",
       "      <th>4</th>\n",
       "      <td>2012</td>\n",
       "      <td>1</td>\n",
       "      <td>1</td>\n",
       "      <td>4</td>\n",
       "      <td>30</td>\n",
       "      <td>0</td>\n",
       "      <td>0</td>\n",
       "      <td>19</td>\n",
       "      <td>19.889306</td>\n",
       "      <td>973</td>\n",
       "      <td>2</td>\n",
       "    </tr>\n",
       "    <tr>\n",
       "      <th>5</th>\n",
       "      <td>2012</td>\n",
       "      <td>1</td>\n",
       "      <td>1</td>\n",
       "      <td>5</td>\n",
       "      <td>30</td>\n",
       "      <td>0</td>\n",
       "      <td>0</td>\n",
       "      <td>20</td>\n",
       "      <td>21.193089</td>\n",
       "      <td>976</td>\n",
       "      <td>2</td>\n",
       "    </tr>\n",
       "    <tr>\n",
       "      <th>6</th>\n",
       "      <td>2012</td>\n",
       "      <td>1</td>\n",
       "      <td>1</td>\n",
       "      <td>6</td>\n",
       "      <td>30</td>\n",
       "      <td>0</td>\n",
       "      <td>0</td>\n",
       "      <td>20</td>\n",
       "      <td>21.183199</td>\n",
       "      <td>977</td>\n",
       "      <td>2</td>\n",
       "    </tr>\n",
       "    <tr>\n",
       "      <th>7</th>\n",
       "      <td>2012</td>\n",
       "      <td>1</td>\n",
       "      <td>1</td>\n",
       "      <td>7</td>\n",
       "      <td>30</td>\n",
       "      <td>50</td>\n",
       "      <td>0</td>\n",
       "      <td>21</td>\n",
       "      <td>21.635665</td>\n",
       "      <td>978</td>\n",
       "      <td>2</td>\n",
       "    </tr>\n",
       "    <tr>\n",
       "      <th>8</th>\n",
       "      <td>2012</td>\n",
       "      <td>1</td>\n",
       "      <td>1</td>\n",
       "      <td>8</td>\n",
       "      <td>30</td>\n",
       "      <td>125</td>\n",
       "      <td>0</td>\n",
       "      <td>21</td>\n",
       "      <td>22.467974</td>\n",
       "      <td>978</td>\n",
       "      <td>2</td>\n",
       "    </tr>\n",
       "    <tr>\n",
       "      <th>9</th>\n",
       "      <td>2012</td>\n",
       "      <td>1</td>\n",
       "      <td>1</td>\n",
       "      <td>9</td>\n",
       "      <td>30</td>\n",
       "      <td>177</td>\n",
       "      <td>2</td>\n",
       "      <td>21</td>\n",
       "      <td>23.750316</td>\n",
       "      <td>978</td>\n",
       "      <td>2</td>\n",
       "    </tr>\n",
       "  </tbody>\n",
       "</table>\n",
       "</div>"
      ],
      "text/plain": [
       "   Year  Month  Day  Hour  Minute  DHI  DNI  Dew Point  Temperature  Pressure  \\\n",
       "0  2012      1    1     0      30    0    0         20    21.449194       974   \n",
       "1  2012      1    1     1      30    0    0         19    21.174410       973   \n",
       "2  2012      1    1     2      30    0    0         19    20.841860       973   \n",
       "3  2012      1    1     3      30    0    0         19    20.361494       973   \n",
       "4  2012      1    1     4      30    0    0         19    19.889306       973   \n",
       "5  2012      1    1     5      30    0    0         20    21.193089       976   \n",
       "6  2012      1    1     6      30    0    0         20    21.183199       977   \n",
       "7  2012      1    1     7      30   50    0         21    21.635665       978   \n",
       "8  2012      1    1     8      30  125    0         21    22.467974       978   \n",
       "9  2012      1    1     9      30  177    2         21    23.750316       978   \n",
       "\n",
       "   Wind Speed  \n",
       "0           2  \n",
       "1           2  \n",
       "2           2  \n",
       "3           2  \n",
       "4           2  \n",
       "5           2  \n",
       "6           2  \n",
       "7           2  \n",
       "8           2  \n",
       "9           2  "
      ]
     },
     "execution_count": 245,
     "metadata": {},
     "output_type": "execute_result"
    }
   ],
   "source": [
    "sd.head(10)"
   ]
  },
  {
   "cell_type": "code",
   "execution_count": 246,
   "metadata": {},
   "outputs": [
    {
     "data": {
      "text/plain": [
       "Index(['Year', 'Month', 'Day', 'Hour', 'Minute', 'DHI', 'DNI', 'Dew Point',\n",
       "       'Temperature', 'Pressure', 'Wind Speed'],\n",
       "      dtype='object')"
      ]
     },
     "execution_count": 246,
     "metadata": {},
     "output_type": "execute_result"
    }
   ],
   "source": [
    "sd.columns"
   ]
  },
  {
   "cell_type": "code",
   "execution_count": null,
   "metadata": {},
   "outputs": [],
   "source": []
  },
  {
   "cell_type": "code",
   "execution_count": null,
   "metadata": {},
   "outputs": [],
   "source": []
  },
  {
   "cell_type": "code",
   "execution_count": 247,
   "metadata": {},
   "outputs": [],
   "source": [
    "sd1=sd.drop(columns=['DHI','DNI'])"
   ]
  },
  {
   "cell_type": "code",
   "execution_count": 248,
   "metadata": {},
   "outputs": [
    {
     "data": {
      "text/html": [
       "<div>\n",
       "<style scoped>\n",
       "    .dataframe tbody tr th:only-of-type {\n",
       "        vertical-align: middle;\n",
       "    }\n",
       "\n",
       "    .dataframe tbody tr th {\n",
       "        vertical-align: top;\n",
       "    }\n",
       "\n",
       "    .dataframe thead th {\n",
       "        text-align: right;\n",
       "    }\n",
       "</style>\n",
       "<table border=\"1\" class=\"dataframe\">\n",
       "  <thead>\n",
       "    <tr style=\"text-align: right;\">\n",
       "      <th></th>\n",
       "      <th>Year</th>\n",
       "      <th>Month</th>\n",
       "      <th>Day</th>\n",
       "      <th>Hour</th>\n",
       "      <th>Minute</th>\n",
       "      <th>Dew Point</th>\n",
       "      <th>Temperature</th>\n",
       "      <th>Pressure</th>\n",
       "      <th>Wind Speed</th>\n",
       "    </tr>\n",
       "  </thead>\n",
       "  <tbody>\n",
       "    <tr>\n",
       "      <th>0</th>\n",
       "      <td>2012</td>\n",
       "      <td>1</td>\n",
       "      <td>1</td>\n",
       "      <td>0</td>\n",
       "      <td>30</td>\n",
       "      <td>20</td>\n",
       "      <td>21.449194</td>\n",
       "      <td>974</td>\n",
       "      <td>2</td>\n",
       "    </tr>\n",
       "    <tr>\n",
       "      <th>1</th>\n",
       "      <td>2012</td>\n",
       "      <td>1</td>\n",
       "      <td>1</td>\n",
       "      <td>1</td>\n",
       "      <td>30</td>\n",
       "      <td>19</td>\n",
       "      <td>21.174410</td>\n",
       "      <td>973</td>\n",
       "      <td>2</td>\n",
       "    </tr>\n",
       "    <tr>\n",
       "      <th>2</th>\n",
       "      <td>2012</td>\n",
       "      <td>1</td>\n",
       "      <td>1</td>\n",
       "      <td>2</td>\n",
       "      <td>30</td>\n",
       "      <td>19</td>\n",
       "      <td>20.841860</td>\n",
       "      <td>973</td>\n",
       "      <td>2</td>\n",
       "    </tr>\n",
       "    <tr>\n",
       "      <th>3</th>\n",
       "      <td>2012</td>\n",
       "      <td>1</td>\n",
       "      <td>1</td>\n",
       "      <td>3</td>\n",
       "      <td>30</td>\n",
       "      <td>19</td>\n",
       "      <td>20.361494</td>\n",
       "      <td>973</td>\n",
       "      <td>2</td>\n",
       "    </tr>\n",
       "    <tr>\n",
       "      <th>4</th>\n",
       "      <td>2012</td>\n",
       "      <td>1</td>\n",
       "      <td>1</td>\n",
       "      <td>4</td>\n",
       "      <td>30</td>\n",
       "      <td>19</td>\n",
       "      <td>19.889306</td>\n",
       "      <td>973</td>\n",
       "      <td>2</td>\n",
       "    </tr>\n",
       "  </tbody>\n",
       "</table>\n",
       "</div>"
      ],
      "text/plain": [
       "   Year  Month  Day  Hour  Minute  Dew Point  Temperature  Pressure  \\\n",
       "0  2012      1    1     0      30         20    21.449194       974   \n",
       "1  2012      1    1     1      30         19    21.174410       973   \n",
       "2  2012      1    1     2      30         19    20.841860       973   \n",
       "3  2012      1    1     3      30         19    20.361494       973   \n",
       "4  2012      1    1     4      30         19    19.889306       973   \n",
       "\n",
       "   Wind Speed  \n",
       "0           2  \n",
       "1           2  \n",
       "2           2  \n",
       "3           2  \n",
       "4           2  "
      ]
     },
     "execution_count": 248,
     "metadata": {},
     "output_type": "execute_result"
    }
   ],
   "source": [
    "sd1.head()"
   ]
  },
  {
   "cell_type": "code",
   "execution_count": null,
   "metadata": {},
   "outputs": [],
   "source": []
  },
  {
   "cell_type": "code",
   "execution_count": 253,
   "metadata": {},
   "outputs": [],
   "source": [
    "sd1['Datetime']=pd.to_datetime(sd1[['Year','Month','Day','Hour','Minute']])"
   ]
  },
  {
   "cell_type": "code",
   "execution_count": 155,
   "metadata": {},
   "outputs": [
    {
     "name": "stdout",
     "output_type": "stream",
     "text": [
      "      Year  Month  Day  Hour  Minute  Dew Point  Temperature  Pressure  \\\n",
      "0     2012      1    1     0      30         20    21.449194       974   \n",
      "1     2012      1    1     1      30         19    21.174410       973   \n",
      "2     2012      1    1     2      30         19    20.841860       973   \n",
      "3     2012      1    1     3      30         19    20.361494       973   \n",
      "4     2012      1    1     4      30         19    19.889306       973   \n",
      "...    ...    ...  ...   ...     ...        ...          ...       ...   \n",
      "8755  2012     12   31    19      30         20    23.352176       974   \n",
      "8756  2012     12   31    20      30         20    22.889635       974   \n",
      "8757  2012     12   31    21      30         20    22.499709       974   \n",
      "8758  2012     12   31    22      30         20    22.173667       974   \n",
      "8759  2012     12   31    23      30         20    21.831394       974   \n",
      "\n",
      "      Wind Speed            Datetime  \n",
      "0              2 2012-01-01 00:30:00  \n",
      "1              2 2012-01-01 01:30:00  \n",
      "2              2 2012-01-01 02:30:00  \n",
      "3              2 2012-01-01 03:30:00  \n",
      "4              2 2012-01-01 04:30:00  \n",
      "...          ...                 ...  \n",
      "8755           2 2012-12-31 19:30:00  \n",
      "8756           2 2012-12-31 20:30:00  \n",
      "8757           2 2012-12-31 21:30:00  \n",
      "8758           2 2012-12-31 22:30:00  \n",
      "8759           2 2012-12-31 23:30:00  \n",
      "\n",
      "[8760 rows x 10 columns]\n"
     ]
    }
   ],
   "source": [
    "print(sd1)"
   ]
  },
  {
   "cell_type": "code",
   "execution_count": 254,
   "metadata": {},
   "outputs": [],
   "source": [
    "sd1=sd1.drop(columns=['Year','Month','Day','Hour','Minute','Pressure','Dew Point','Wind Speed'],axis=1,inplace=True)"
   ]
  },
  {
   "cell_type": "code",
   "execution_count": 258,
   "metadata": {},
   "outputs": [
    {
     "data": {
      "text/html": [
       "<div>\n",
       "<style scoped>\n",
       "    .dataframe tbody tr th:only-of-type {\n",
       "        vertical-align: middle;\n",
       "    }\n",
       "\n",
       "    .dataframe tbody tr th {\n",
       "        vertical-align: top;\n",
       "    }\n",
       "\n",
       "    .dataframe thead th {\n",
       "        text-align: right;\n",
       "    }\n",
       "</style>\n",
       "<table border=\"1\" class=\"dataframe\">\n",
       "  <thead>\n",
       "    <tr style=\"text-align: right;\">\n",
       "      <th></th>\n",
       "      <th>Temperature</th>\n",
       "      <th>Datetime</th>\n",
       "    </tr>\n",
       "  </thead>\n",
       "  <tbody>\n",
       "    <tr>\n",
       "      <th>0</th>\n",
       "      <td>21.449194</td>\n",
       "      <td>2012-01-01 00:30:00</td>\n",
       "    </tr>\n",
       "    <tr>\n",
       "      <th>1</th>\n",
       "      <td>21.174410</td>\n",
       "      <td>2012-01-01 01:30:00</td>\n",
       "    </tr>\n",
       "    <tr>\n",
       "      <th>2</th>\n",
       "      <td>20.841860</td>\n",
       "      <td>2012-01-01 02:30:00</td>\n",
       "    </tr>\n",
       "    <tr>\n",
       "      <th>3</th>\n",
       "      <td>20.361494</td>\n",
       "      <td>2012-01-01 03:30:00</td>\n",
       "    </tr>\n",
       "    <tr>\n",
       "      <th>4</th>\n",
       "      <td>19.889306</td>\n",
       "      <td>2012-01-01 04:30:00</td>\n",
       "    </tr>\n",
       "    <tr>\n",
       "      <th>...</th>\n",
       "      <td>...</td>\n",
       "      <td>...</td>\n",
       "    </tr>\n",
       "    <tr>\n",
       "      <th>8755</th>\n",
       "      <td>23.352176</td>\n",
       "      <td>2012-12-31 19:30:00</td>\n",
       "    </tr>\n",
       "    <tr>\n",
       "      <th>8756</th>\n",
       "      <td>22.889635</td>\n",
       "      <td>2012-12-31 20:30:00</td>\n",
       "    </tr>\n",
       "    <tr>\n",
       "      <th>8757</th>\n",
       "      <td>22.499709</td>\n",
       "      <td>2012-12-31 21:30:00</td>\n",
       "    </tr>\n",
       "    <tr>\n",
       "      <th>8758</th>\n",
       "      <td>22.173667</td>\n",
       "      <td>2012-12-31 22:30:00</td>\n",
       "    </tr>\n",
       "    <tr>\n",
       "      <th>8759</th>\n",
       "      <td>21.831394</td>\n",
       "      <td>2012-12-31 23:30:00</td>\n",
       "    </tr>\n",
       "  </tbody>\n",
       "</table>\n",
       "<p>8760 rows × 2 columns</p>\n",
       "</div>"
      ],
      "text/plain": [
       "      Temperature            Datetime\n",
       "0       21.449194 2012-01-01 00:30:00\n",
       "1       21.174410 2012-01-01 01:30:00\n",
       "2       20.841860 2012-01-01 02:30:00\n",
       "3       20.361494 2012-01-01 03:30:00\n",
       "4       19.889306 2012-01-01 04:30:00\n",
       "...           ...                 ...\n",
       "8755    23.352176 2012-12-31 19:30:00\n",
       "8756    22.889635 2012-12-31 20:30:00\n",
       "8757    22.499709 2012-12-31 21:30:00\n",
       "8758    22.173667 2012-12-31 22:30:00\n",
       "8759    21.831394 2012-12-31 23:30:00\n",
       "\n",
       "[8760 rows x 2 columns]"
      ]
     },
     "execution_count": 258,
     "metadata": {},
     "output_type": "execute_result"
    }
   ],
   "source": [
    "sd1"
   ]
  },
  {
   "cell_type": "code",
   "execution_count": 259,
   "metadata": {},
   "outputs": [
    {
     "data": {
      "text/html": [
       "<div>\n",
       "<style scoped>\n",
       "    .dataframe tbody tr th:only-of-type {\n",
       "        vertical-align: middle;\n",
       "    }\n",
       "\n",
       "    .dataframe tbody tr th {\n",
       "        vertical-align: top;\n",
       "    }\n",
       "\n",
       "    .dataframe thead th {\n",
       "        text-align: right;\n",
       "    }\n",
       "</style>\n",
       "<table border=\"1\" class=\"dataframe\">\n",
       "  <thead>\n",
       "    <tr style=\"text-align: right;\">\n",
       "      <th></th>\n",
       "      <th>Temperature</th>\n",
       "    </tr>\n",
       "    <tr>\n",
       "      <th>Datetime</th>\n",
       "      <th></th>\n",
       "    </tr>\n",
       "  </thead>\n",
       "  <tbody>\n",
       "    <tr>\n",
       "      <th>2012-01-01 00:30:00</th>\n",
       "      <td>21.449194</td>\n",
       "    </tr>\n",
       "    <tr>\n",
       "      <th>2012-01-01 01:30:00</th>\n",
       "      <td>21.174410</td>\n",
       "    </tr>\n",
       "    <tr>\n",
       "      <th>2012-01-01 02:30:00</th>\n",
       "      <td>20.841860</td>\n",
       "    </tr>\n",
       "    <tr>\n",
       "      <th>2012-01-01 03:30:00</th>\n",
       "      <td>20.361494</td>\n",
       "    </tr>\n",
       "    <tr>\n",
       "      <th>2012-01-01 04:30:00</th>\n",
       "      <td>19.889306</td>\n",
       "    </tr>\n",
       "    <tr>\n",
       "      <th>...</th>\n",
       "      <td>...</td>\n",
       "    </tr>\n",
       "    <tr>\n",
       "      <th>2012-12-31 19:30:00</th>\n",
       "      <td>23.352176</td>\n",
       "    </tr>\n",
       "    <tr>\n",
       "      <th>2012-12-31 20:30:00</th>\n",
       "      <td>22.889635</td>\n",
       "    </tr>\n",
       "    <tr>\n",
       "      <th>2012-12-31 21:30:00</th>\n",
       "      <td>22.499709</td>\n",
       "    </tr>\n",
       "    <tr>\n",
       "      <th>2012-12-31 22:30:00</th>\n",
       "      <td>22.173667</td>\n",
       "    </tr>\n",
       "    <tr>\n",
       "      <th>2012-12-31 23:30:00</th>\n",
       "      <td>21.831394</td>\n",
       "    </tr>\n",
       "  </tbody>\n",
       "</table>\n",
       "<p>8760 rows × 1 columns</p>\n",
       "</div>"
      ],
      "text/plain": [
       "                     Temperature\n",
       "Datetime                        \n",
       "2012-01-01 00:30:00    21.449194\n",
       "2012-01-01 01:30:00    21.174410\n",
       "2012-01-01 02:30:00    20.841860\n",
       "2012-01-01 03:30:00    20.361494\n",
       "2012-01-01 04:30:00    19.889306\n",
       "...                          ...\n",
       "2012-12-31 19:30:00    23.352176\n",
       "2012-12-31 20:30:00    22.889635\n",
       "2012-12-31 21:30:00    22.499709\n",
       "2012-12-31 22:30:00    22.173667\n",
       "2012-12-31 23:30:00    21.831394\n",
       "\n",
       "[8760 rows x 1 columns]"
      ]
     },
     "execution_count": 259,
     "metadata": {},
     "output_type": "execute_result"
    }
   ],
   "source": [
    "sd1.set_index('Datetime')"
   ]
  },
  {
   "cell_type": "code",
   "execution_count": 203,
   "metadata": {},
   "outputs": [
    {
     "name": "stderr",
     "output_type": "stream",
     "text": [
      "No handles with labels found to put in legend.\n"
     ]
    },
    {
     "data": {
      "image/png": "[encoded data removed]",
      "text/plain": [
       "<Figure size 432x288 with 1 Axes>"
      ]
     },
     "metadata": {},
     "output_type": "display_data"
    }
   ],
   "source": [
    "from matplotlib import style\n",
    "fig = plt.figure()\n",
    "ax1 = plt.subplot2grid((1,1), (0,0))\n",
    "style.use('ggplot')\n",
    "sns.lineplot(x=data[\"Year\"], y=sd1[\"Temperature\"], data=sd1)\n",
    "sns.set(rc={'figure.figsize':(15,6)})\n",
    "\n",
    "plt.title(\"Temperature in Year 2004\")\n",
    "plt.xlabel(\"Date\")\n",
    "plt.ylabel(\"Temperature\")\n",
    "plt.grid(True)\n",
    "plt.legend()\n",
    "\n",
    "for label in ax1.xaxis.get_ticklabels():\n",
    "    label.set_rotation(90)\n",
    "    \n",
    "    plt.title(\"Temperature According to Year\")"
   ]
  },
  {
   "cell_type": "code",
   "execution_count": null,
   "metadata": {},
   "outputs": [],
   "source": []
  },
  {
   "cell_type": "code",
   "execution_count": 158,
   "metadata": {},
   "outputs": [
    {
     "data": {
      "text/plain": [
       "Index(['Temperature', 'Datetime'], dtype='object')"
      ]
     },
     "execution_count": 158,
     "metadata": {},
     "output_type": "execute_result"
    }
   ],
   "source": [
    "sd1.columns"
   ]
  },
  {
   "cell_type": "code",
   "execution_count": null,
   "metadata": {},
   "outputs": [],
   "source": []
  },
  {
   "cell_type": "code",
   "execution_count": 159,
   "metadata": {},
   "outputs": [
    {
     "data": {
      "text/html": [
       "<div>\n",
       "<style scoped>\n",
       "    .dataframe tbody tr th:only-of-type {\n",
       "        vertical-align: middle;\n",
       "    }\n",
       "\n",
       "    .dataframe tbody tr th {\n",
       "        vertical-align: top;\n",
       "    }\n",
       "\n",
       "    .dataframe thead th {\n",
       "        text-align: right;\n",
       "    }\n",
       "</style>\n",
       "<table border=\"1\" class=\"dataframe\">\n",
       "  <thead>\n",
       "    <tr style=\"text-align: right;\">\n",
       "      <th></th>\n",
       "      <th>Temperature</th>\n",
       "      <th>Month</th>\n",
       "      <th>Year</th>\n",
       "      <th>Date</th>\n",
       "      <th>Time</th>\n",
       "      <th>Week</th>\n",
       "      <th>Day</th>\n",
       "    </tr>\n",
       "    <tr>\n",
       "      <th>Datetime</th>\n",
       "      <th></th>\n",
       "      <th></th>\n",
       "      <th></th>\n",
       "      <th></th>\n",
       "      <th></th>\n",
       "      <th></th>\n",
       "      <th></th>\n",
       "    </tr>\n",
       "  </thead>\n",
       "  <tbody>\n",
       "    <tr>\n",
       "      <th>2012-01-01 00:30:00</th>\n",
       "      <td>21.449194</td>\n",
       "      <td>1</td>\n",
       "      <td>2012</td>\n",
       "      <td>2012-01-01</td>\n",
       "      <td>00:30:00</td>\n",
       "      <td>52</td>\n",
       "      <td>Sunday</td>\n",
       "    </tr>\n",
       "    <tr>\n",
       "      <th>2012-01-01 01:30:00</th>\n",
       "      <td>21.174410</td>\n",
       "      <td>1</td>\n",
       "      <td>2012</td>\n",
       "      <td>2012-01-01</td>\n",
       "      <td>01:30:00</td>\n",
       "      <td>52</td>\n",
       "      <td>Sunday</td>\n",
       "    </tr>\n",
       "    <tr>\n",
       "      <th>2012-01-01 02:30:00</th>\n",
       "      <td>20.841860</td>\n",
       "      <td>1</td>\n",
       "      <td>2012</td>\n",
       "      <td>2012-01-01</td>\n",
       "      <td>02:30:00</td>\n",
       "      <td>52</td>\n",
       "      <td>Sunday</td>\n",
       "    </tr>\n",
       "    <tr>\n",
       "      <th>2012-01-01 03:30:00</th>\n",
       "      <td>20.361494</td>\n",
       "      <td>1</td>\n",
       "      <td>2012</td>\n",
       "      <td>2012-01-01</td>\n",
       "      <td>03:30:00</td>\n",
       "      <td>52</td>\n",
       "      <td>Sunday</td>\n",
       "    </tr>\n",
       "    <tr>\n",
       "      <th>2012-01-01 04:30:00</th>\n",
       "      <td>19.889306</td>\n",
       "      <td>1</td>\n",
       "      <td>2012</td>\n",
       "      <td>2012-01-01</td>\n",
       "      <td>04:30:00</td>\n",
       "      <td>52</td>\n",
       "      <td>Sunday</td>\n",
       "    </tr>\n",
       "  </tbody>\n",
       "</table>\n",
       "</div>"
      ],
      "text/plain": [
       "                     Temperature  Month  Year        Date      Time  Week  \\\n",
       "Datetime                                                                    \n",
       "2012-01-01 00:30:00    21.449194      1  2012  2012-01-01  00:30:00    52   \n",
       "2012-01-01 01:30:00    21.174410      1  2012  2012-01-01  01:30:00    52   \n",
       "2012-01-01 02:30:00    20.841860      1  2012  2012-01-01  02:30:00    52   \n",
       "2012-01-01 03:30:00    20.361494      1  2012  2012-01-01  03:30:00    52   \n",
       "2012-01-01 04:30:00    19.889306      1  2012  2012-01-01  04:30:00    52   \n",
       "\n",
       "                        Day  \n",
       "Datetime                     \n",
       "2012-01-01 00:30:00  Sunday  \n",
       "2012-01-01 01:30:00  Sunday  \n",
       "2012-01-01 02:30:00  Sunday  \n",
       "2012-01-01 03:30:00  Sunday  \n",
       "2012-01-01 04:30:00  Sunday  "
      ]
     },
     "execution_count": 159,
     "metadata": {},
     "output_type": "execute_result"
    }
   ],
   "source": [
    "data=sd1\n",
    "data[\"Month\"]=pd.to_datetime(sd1[\"Datetime\"]).dt.month\n",
    "data[\"Year\"] = pd.to_datetime(sd1[\"Datetime\"]).dt.year\n",
    "data[\"Date\"] = pd.to_datetime(sd1[\"Datetime\"]).dt.date\n",
    "data[\"Time\"] = pd.to_datetime(sd1[\"Datetime\"]).dt.time\n",
    "data[\"Week\"] = pd.to_datetime(sd1[\"Datetime\"]).dt.week\n",
    "data[\"Day\"] = pd.to_datetime(sd1[\"Datetime\"]).dt.day_name()\n",
    "data = sd1.set_index(\"Datetime\")\n",
    "data.index = pd.to_datetime(data.index)\n",
    "data.head(5)"
   ]
  },
  {
   "cell_type": "code",
   "execution_count": null,
   "metadata": {},
   "outputs": [],
   "source": [
    "data.drop"
   ]
  },
  {
   "cell_type": "code",
   "execution_count": 160,
   "metadata": {},
   "outputs": [
    {
     "name": "stdout",
     "output_type": "stream",
     "text": [
      "[2012 2014 2007 2010 2013 2006 2011 2003 2002] \n",
      "\n",
      "Total Number of Unique Year 9 \n",
      "\n"
     ]
    }
   ],
   "source": [
    "# How many Unique Year do we Have in Dataset \n",
    "print(sd1.Year.unique(),\"\\n\")\n",
    "print(\"Total Number of Unique Year\", sd1.Year.nunique(), \"\\n\")"
   ]
  },
  {
   "cell_type": "code",
   "execution_count": 257,
   "metadata": {},
   "outputs": [
    {
     "data": {
      "text/plain": [
       "[<matplotlib.lines.Line2D at 0x1a53b7c910>]"
      ]
     },
     "execution_count": 257,
     "metadata": {},
     "output_type": "execute_result"
    },
    {
     "data": {
      "image/png": "[encoded data removed]",
      "text/plain": [
       "<Figure size 432x288 with 1 Axes>"
      ]
     },
     "metadata": {
      "needs_background": "light"
     },
     "output_type": "display_data"
    }
   ],
   "source": [
    "from matplotlib import style\n",
    "\n",
    "fig = plt.figure()\n",
    "ax1= fig.add_subplot(511)\n",
    "plt.xlabel(\"Date\")\n",
    "plt.ylabel(\"temp\")\n",
    "style.use('ggplot')\n",
    "y_2004 = data[\"2014\"][\"Temperature\"].to_list()\n",
    "x_2004 = data[\"2014\"][\"Date\"].to_list()\n",
    "ax1.plot(x_2004,y_2004, color=\"green\", linewidth=1.7)\n",
    "\n"
   ]
  },
  {
   "cell_type": "code",
   "execution_count": 258,
   "metadata": {},
   "outputs": [
    {
     "name": "stderr",
     "output_type": "stream",
     "text": [
      "No handles with labels found to put in legend.\n"
     ]
    },
    {
     "data": {
      "image/png": "[encoded data removed]",
      "text/plain": [
       "<Figure size 432x288 with 3 Axes>"
      ]
     },
     "metadata": {},
     "output_type": "display_data"
    }
   ],
   "source": [
    "from matplotlib import style\n",
    "\n",
    "\n",
    "fig = plt.figure()\n",
    "\n",
    "ax1= fig.add_subplot(312)\n",
    "ax2= fig.add_subplot(313)\n",
    "ax3= fig.add_subplot(311)\n",
    "\n",
    "\n",
    "style.use('ggplot')\n",
    "\n",
    "y_2013 = data[\"2013\"][\"Temperature\"].to_list()\n",
    "x_2013 = data[\"2013\"][\"Date\"].to_list()\n",
    "ax1.plot(x_2013,y_2013, color=\"green\", linewidth=1.7)\n",
    "\n",
    "\n",
    "y_2014 = data[\"2014\"][\"Temperature\"].to_list()\n",
    "x_2014 = data[\"2014\"][\"Date\"].to_list()\n",
    "ax2.plot(x_2014, y_2014, color=\"green\", linewidth=1)\n",
    "\n",
    "\n",
    "y_2016 = data[\"2012\"][\"Temperature\"].to_list()\n",
    "x_2016 = data[\"2012\"][\"Date\"].to_list()\n",
    "ax3.plot(x_2016, y_2016, color=\"green\", linewidth=1)\n",
    "\n",
    "\n",
    "plt.rcParams[\"figure.figsize\"] = (26,10)\n",
    "plt.title(\"Temperature in years\")\n",
    "plt.xlabel(\"Date\")\n",
    "plt.ylabel(\"Temperature\")\n",
    "plt.grid(True, alpha=1)\n",
    "plt.legend()\n",
    "\n",
    "for label in ax1.xaxis.get_ticklabels():\n",
    "    label.set_rotation(90)"
   ]
  },
  {
   "cell_type": "code",
   "execution_count": 36,
   "metadata": {},
   "outputs": [
    {
     "data": {
      "text/plain": [
       "[<matplotlib.lines.Line2D at 0x1a43b1d5d0>]"
      ]
     },
     "execution_count": 36,
     "metadata": {},
     "output_type": "execute_result"
    },
    {
     "data": {
      "image/png": "[encoded data removed]",
      "text/plain": [
       "<Figure size 1872x720 with 1 Axes>"
      ]
     },
     "metadata": {},
     "output_type": "display_data"
    }
   ],
   "source": [
    "from matplotlib import style\n",
    "\n",
    "fig = plt.figure()\n",
    "ax1= fig.add_subplot(211)\n",
    "plt.xlabel(\"Date\")\n",
    "plt.ylabel(\"temp\")\n",
    "style.use('ggplot')\n",
    "y_2012 = data[\"2012\"][\"Temperature\"].to_list()\n",
    "x_2012 = data[\"2012\"][\"Date\"].to_list()\n",
    "ax1.plot(x_2012,y_2012, color=\"green\", linewidth=1.7)\n"
   ]
  },
  {
   "cell_type": "code",
   "execution_count": null,
   "metadata": {},
   "outputs": [],
   "source": []
  },
  {
   "cell_type": "code",
   "execution_count": 38,
   "metadata": {},
   "outputs": [
    {
     "name": "stderr",
     "output_type": "stream",
     "text": [
      "No handles with labels found to put in legend.\n"
     ]
    },
    {
     "data": {
      "image/png": "[encoded data removed]",
      "text/plain": [
       "<Figure size 1872x720 with 3 Axes>"
      ]
     },
     "metadata": {},
     "output_type": "display_data"
    }
   ],
   "source": [
    "from matplotlib import style\n",
    "\n",
    "\n",
    "fig = plt.figure()\n",
    "\n",
    "ax1= fig.add_subplot(312)\n",
    "ax2= fig.add_subplot(313)\n",
    "ax3= fig.add_subplot(311)\n",
    "\n",
    "\n",
    "style.use('ggplot')\n",
    "\n",
    "y_2013 = data[\"2013\"][\"Dew Point\"].to_list()\n",
    "x_2013 = data[\"2013\"][\"Date\"].to_list()\n",
    "ax1.plot(x_2013,y_2013, color=\"green\", linewidth=1.7)\n",
    "\n",
    "\n",
    "y_2014 = data[\"2014\"][\"Dew Point\"].to_list()\n",
    "x_2014 = data[\"2014\"][\"Date\"].to_list()\n",
    "ax2.plot(x_2014, y_2014, color=\"green\", linewidth=1)\n",
    "\n",
    "\n",
    "y_2016 = data[\"2012\"][\"Dew Point\"].to_list()\n",
    "x_2016 = data[\"2012\"][\"Date\"].to_list()\n",
    "ax3.plot(x_2016, y_2016, color=\"green\", linewidth=1)\n",
    "\n",
    "\n",
    "plt.rcParams[\"figure.figsize\"] = (26,10)\n",
    "plt.title(\"Dew Point in years\")\n",
    "plt.xlabel(\"Date\")\n",
    "plt.ylabel(\"Pressure\")\n",
    "plt.grid(True, alpha=1)\n",
    "plt.legend()\n",
    "\n",
    "for label in ax1.xaxis.get_ticklabels():\n",
    "    label.set_rotation(90)"
   ]
  },
  {
   "cell_type": "code",
   "execution_count": 68,
   "metadata": {},
   "outputs": [
    {
     "name": "stderr",
     "output_type": "stream",
     "text": [
      "No handles with labels found to put in legend.\n"
     ]
    },
    {
     "data": {
      "image/png": "[encoded data removed]",
      "text/plain": [
       "<Figure size 1080x432 with 1 Axes>"
      ]
     },
     "metadata": {},
     "output_type": "display_data"
    }
   ],
   "source": [
    "from matplotlib import style\n",
    "fig = plt.figure()\n",
    "ax1 = plt.subplot2grid((1,1), (0,0))\n",
    "style.use('ggplot')\n",
    "sns.scatterplot(x=data[\"Year\"], y=data[\"Pressure\"], data=sd1)\n",
    "sns.set(rc={'figure.figsize':(15,6)})\n",
    "\n",
    "plt.title(\"Pressure data w.r.t years\")\n",
    "plt.xlabel(\"Years\")\n",
    "plt.ylabel(\"Pressure\")\n",
    "plt.grid(True)\n",
    "plt.legend()\n",
    "\n",
    "for label in ax1.xaxis.get_ticklabels():\n",
    "    label.set_rotation(90)\n",
    "    \n",
    "    plt.title(\"Pressure consumption w.r.t Year\")"
   ]
  },
  {
   "cell_type": "code",
   "execution_count": 40,
   "metadata": {},
   "outputs": [
    {
     "data": {
      "text/plain": [
       "Text(0.5, 1.0, 'Ennergy Distribution')"
      ]
     },
     "execution_count": 40,
     "metadata": {},
     "output_type": "execute_result"
    },
    {
     "data": {
      "image/png": "[encoded data removed]",
      "text/plain": [
       "<Figure size 1080x432 with 1 Axes>"
      ]
     },
     "metadata": {},
     "output_type": "display_data"
    }
   ],
   "source": [
    "sns.distplot(data[\"Dew Point\"])       #Dewpoints distribution\n",
    "plt.title(\"Ennergy Distribution\")"
   ]
  },
  {
   "cell_type": "code",
   "execution_count": 41,
   "metadata": {},
   "outputs": [
    {
     "data": {
      "text/plain": [
       "Text(0.5, 1.0, 'Ennergy Distribution')"
      ]
     },
     "execution_count": 41,
     "metadata": {},
     "output_type": "execute_result"
    },
    {
     "data": {
      "image/png": "[encoded data removed]",
      "text/plain": [
       "<Figure size 1080x432 with 1 Axes>"
      ]
     },
     "metadata": {},
     "output_type": "display_data"
    }
   ],
   "source": [
    "sns.distplot(data[\"Temperature\"])       #Temperature distribution\n",
    "plt.title(\"Ennergy Distribution\")"
   ]
  },
  {
   "cell_type": "code",
   "execution_count": 42,
   "metadata": {},
   "outputs": [
    {
     "data": {
      "text/plain": [
       "Text(0.5, 1.0, 'Ennergy Distribution')"
      ]
     },
     "execution_count": 42,
     "metadata": {},
     "output_type": "execute_result"
    },
    {
     "data": {
      "image/png": "[encoded data removed]",
      "text/plain": [
       "<Figure size 1080x432 with 1 Axes>"
      ]
     },
     "metadata": {},
     "output_type": "display_data"
    }
   ],
   "source": [
    "sns.distplot(data[\"Pressure\"])       #Pressure distribution\n",
    "plt.title(\"Ennergy Distribution\")"
   ]
  },
  {
   "cell_type": "code",
   "execution_count": 161,
   "metadata": {},
   "outputs": [
    {
     "name": "stdout",
     "output_type": "stream",
     "text": [
      "Old Dataset  (8760, 8)\n"
     ]
    }
   ],
   "source": [
    "print(\"Old Dataset \",sd1.shape )"
   ]
  },
  {
   "cell_type": "code",
   "execution_count": 162,
   "metadata": {},
   "outputs": [
    {
     "name": "stdout",
     "output_type": "stream",
     "text": [
      "      Temperature            Datetime  Month  Year        Date      Time  \\\n",
      "0       21.449194 2012-01-01 00:30:00      1  2012  2012-01-01  00:30:00   \n",
      "1       21.174410 2012-01-01 01:30:00      1  2012  2012-01-01  01:30:00   \n",
      "2       20.841860 2012-01-01 02:30:00      1  2012  2012-01-01  02:30:00   \n",
      "3       20.361494 2012-01-01 03:30:00      1  2012  2012-01-01  03:30:00   \n",
      "4       19.889306 2012-01-01 04:30:00      1  2012  2012-01-01  04:30:00   \n",
      "...           ...                 ...    ...   ...         ...       ...   \n",
      "8755    23.352176 2012-12-31 19:30:00     12  2012  2012-12-31  19:30:00   \n",
      "8756    22.889635 2012-12-31 20:30:00     12  2012  2012-12-31  20:30:00   \n",
      "8757    22.499709 2012-12-31 21:30:00     12  2012  2012-12-31  21:30:00   \n",
      "8758    22.173667 2012-12-31 22:30:00     12  2012  2012-12-31  22:30:00   \n",
      "8759    21.831394 2012-12-31 23:30:00     12  2012  2012-12-31  23:30:00   \n",
      "\n",
      "      Week     Day  \n",
      "0       52  Sunday  \n",
      "1       52  Sunday  \n",
      "2       52  Sunday  \n",
      "3       52  Sunday  \n",
      "4       52  Sunday  \n",
      "...    ...     ...  \n",
      "8755     1  Monday  \n",
      "8756     1  Monday  \n",
      "8757     1  Monday  \n",
      "8758     1  Monday  \n",
      "8759     1  Monday  \n",
      "\n",
      "[8760 rows x 8 columns]\n"
     ]
    }
   ],
   "source": [
    "print(sd1)"
   ]
  },
  {
   "cell_type": "code",
   "execution_count": 163,
   "metadata": {},
   "outputs": [
    {
     "data": {
      "text/plain": [
       "Index(['Temperature', 'Datetime', 'Month', 'Year', 'Date', 'Time', 'Week',\n",
       "       'Day'],\n",
       "      dtype='object')"
      ]
     },
     "execution_count": 163,
     "metadata": {},
     "output_type": "execute_result"
    }
   ],
   "source": [
    "sd1.columns"
   ]
  },
  {
   "cell_type": "code",
   "execution_count": 164,
   "metadata": {},
   "outputs": [],
   "source": [
    "sd1=sd1.drop(columns=['Date','Time','Day'])"
   ]
  },
  {
   "cell_type": "code",
   "execution_count": 165,
   "metadata": {},
   "outputs": [],
   "source": [
    "sd1=sd1.set_index('Datetime')"
   ]
  },
  {
   "cell_type": "code",
   "execution_count": 166,
   "metadata": {},
   "outputs": [],
   "source": [
    "NewDataSet = sd1.resample('D',).mean()"
   ]
  },
  {
   "cell_type": "code",
   "execution_count": 167,
   "metadata": {},
   "outputs": [
    {
     "data": {
      "text/html": [
       "<div>\n",
       "<style scoped>\n",
       "    .dataframe tbody tr th:only-of-type {\n",
       "        vertical-align: middle;\n",
       "    }\n",
       "\n",
       "    .dataframe tbody tr th {\n",
       "        vertical-align: top;\n",
       "    }\n",
       "\n",
       "    .dataframe thead th {\n",
       "        text-align: right;\n",
       "    }\n",
       "</style>\n",
       "<table border=\"1\" class=\"dataframe\">\n",
       "  <thead>\n",
       "    <tr style=\"text-align: right;\">\n",
       "      <th></th>\n",
       "      <th>Temperature</th>\n",
       "      <th>Month</th>\n",
       "      <th>Year</th>\n",
       "      <th>Week</th>\n",
       "    </tr>\n",
       "    <tr>\n",
       "      <th>Datetime</th>\n",
       "      <th></th>\n",
       "      <th></th>\n",
       "      <th></th>\n",
       "      <th></th>\n",
       "    </tr>\n",
       "  </thead>\n",
       "  <tbody>\n",
       "    <tr>\n",
       "      <th>2002-10-01</th>\n",
       "      <td>26.817624</td>\n",
       "      <td>10.0</td>\n",
       "      <td>2002.0</td>\n",
       "      <td>40.0</td>\n",
       "    </tr>\n",
       "    <tr>\n",
       "      <th>2002-10-02</th>\n",
       "      <td>26.412232</td>\n",
       "      <td>10.0</td>\n",
       "      <td>2002.0</td>\n",
       "      <td>40.0</td>\n",
       "    </tr>\n",
       "    <tr>\n",
       "      <th>2002-10-03</th>\n",
       "      <td>26.412725</td>\n",
       "      <td>10.0</td>\n",
       "      <td>2002.0</td>\n",
       "      <td>40.0</td>\n",
       "    </tr>\n",
       "    <tr>\n",
       "      <th>2002-10-04</th>\n",
       "      <td>26.468332</td>\n",
       "      <td>10.0</td>\n",
       "      <td>2002.0</td>\n",
       "      <td>40.0</td>\n",
       "    </tr>\n",
       "    <tr>\n",
       "      <th>2002-10-05</th>\n",
       "      <td>26.285986</td>\n",
       "      <td>10.0</td>\n",
       "      <td>2002.0</td>\n",
       "      <td>40.0</td>\n",
       "    </tr>\n",
       "  </tbody>\n",
       "</table>\n",
       "</div>"
      ],
      "text/plain": [
       "            Temperature  Month    Year  Week\n",
       "Datetime                                    \n",
       "2002-10-01    26.817624   10.0  2002.0  40.0\n",
       "2002-10-02    26.412232   10.0  2002.0  40.0\n",
       "2002-10-03    26.412725   10.0  2002.0  40.0\n",
       "2002-10-04    26.468332   10.0  2002.0  40.0\n",
       "2002-10-05    26.285986   10.0  2002.0  40.0"
      ]
     },
     "execution_count": 167,
     "metadata": {},
     "output_type": "execute_result"
    }
   ],
   "source": [
    "NewDataSet.head()"
   ]
  },
  {
   "cell_type": "code",
   "execution_count": 168,
   "metadata": {},
   "outputs": [
    {
     "name": "stdout",
     "output_type": "stream",
     "text": [
      "Old Dataset  (8760, 7)\n",
      "New Dataset  (4262, 4)\n"
     ]
    }
   ],
   "source": [
    "print(\"Old Dataset \",data.shape )\n",
    "print(\"New Dataset \",NewDataSet.shape )"
   ]
  },
  {
   "cell_type": "markdown",
   "metadata": {},
   "source": [
    "## Modified"
   ]
  },
  {
   "cell_type": "code",
   "execution_count": 169,
   "metadata": {},
   "outputs": [],
   "source": [
    "TestData = data.tail(400)\n",
    "\n",
    "Training_Set = data.iloc[:,0:1]\n",
    "Training_Set = Training_Set[:-400]"
   ]
  },
  {
   "cell_type": "code",
   "execution_count": 170,
   "metadata": {},
   "outputs": [
    {
     "data": {
      "text/html": [
       "<div>\n",
       "<style scoped>\n",
       "    .dataframe tbody tr th:only-of-type {\n",
       "        vertical-align: middle;\n",
       "    }\n",
       "\n",
       "    .dataframe tbody tr th {\n",
       "        vertical-align: top;\n",
       "    }\n",
       "\n",
       "    .dataframe thead th {\n",
       "        text-align: right;\n",
       "    }\n",
       "</style>\n",
       "<table border=\"1\" class=\"dataframe\">\n",
       "  <thead>\n",
       "    <tr style=\"text-align: right;\">\n",
       "      <th></th>\n",
       "      <th>Temperature</th>\n",
       "    </tr>\n",
       "    <tr>\n",
       "      <th>Datetime</th>\n",
       "      <th></th>\n",
       "    </tr>\n",
       "  </thead>\n",
       "  <tbody>\n",
       "    <tr>\n",
       "      <th>2012-01-01 00:30:00</th>\n",
       "      <td>21.449194</td>\n",
       "    </tr>\n",
       "    <tr>\n",
       "      <th>2012-01-01 01:30:00</th>\n",
       "      <td>21.174410</td>\n",
       "    </tr>\n",
       "    <tr>\n",
       "      <th>2012-01-01 02:30:00</th>\n",
       "      <td>20.841860</td>\n",
       "    </tr>\n",
       "    <tr>\n",
       "      <th>2012-01-01 03:30:00</th>\n",
       "      <td>20.361494</td>\n",
       "    </tr>\n",
       "    <tr>\n",
       "      <th>2012-01-01 04:30:00</th>\n",
       "      <td>19.889306</td>\n",
       "    </tr>\n",
       "  </tbody>\n",
       "</table>\n",
       "</div>"
      ],
      "text/plain": [
       "                     Temperature\n",
       "Datetime                        \n",
       "2012-01-01 00:30:00    21.449194\n",
       "2012-01-01 01:30:00    21.174410\n",
       "2012-01-01 02:30:00    20.841860\n",
       "2012-01-01 03:30:00    20.361494\n",
       "2012-01-01 04:30:00    19.889306"
      ]
     },
     "execution_count": 170,
     "metadata": {},
     "output_type": "execute_result"
    }
   ],
   "source": [
    "Training_Set.head()"
   ]
  },
  {
   "cell_type": "code",
   "execution_count": 171,
   "metadata": {},
   "outputs": [
    {
     "name": "stdout",
     "output_type": "stream",
     "text": [
      "Test Set Shape  (400, 7)\n",
      "Training Set Shape  (8360, 1)\n"
     ]
    }
   ],
   "source": [
    "print(\"Test Set Shape \", TestData.shape)\n",
    "print(\"Training Set Shape \", Training_Set.shape)\n"
   ]
  },
  {
   "cell_type": "code",
   "execution_count": 172,
   "metadata": {},
   "outputs": [],
   "source": [
    "from sklearn.preprocessing import MinMaxScaler"
   ]
  },
  {
   "cell_type": "code",
   "execution_count": 173,
   "metadata": {},
   "outputs": [],
   "source": [
    "Training_Set = Training_Set\n",
    "sc = MinMaxScaler(feature_range=(0,1))\n",
    "Train = sc.fit_transform(Training_Set)"
   ]
  },
  {
   "cell_type": "code",
   "execution_count": 174,
   "metadata": {},
   "outputs": [
    {
     "name": "stdout",
     "output_type": "stream",
     "text": [
      "[[0.2842941 ]\n",
      " [0.27701774]\n",
      " [0.26821172]\n",
      " ...\n",
      " [0.21123806]\n",
      " [0.20727891]\n",
      " [0.22714656]]\n"
     ]
    }
   ],
   "source": [
    "print(Train)"
   ]
  },
  {
   "cell_type": "code",
   "execution_count": 175,
   "metadata": {},
   "outputs": [
    {
     "data": {
      "text/html": [
       "<div>\n",
       "<style scoped>\n",
       "    .dataframe tbody tr th:only-of-type {\n",
       "        vertical-align: middle;\n",
       "    }\n",
       "\n",
       "    .dataframe tbody tr th {\n",
       "        vertical-align: top;\n",
       "    }\n",
       "\n",
       "    .dataframe thead th {\n",
       "        text-align: right;\n",
       "    }\n",
       "</style>\n",
       "<table border=\"1\" class=\"dataframe\">\n",
       "  <thead>\n",
       "    <tr style=\"text-align: right;\">\n",
       "      <th></th>\n",
       "      <th>Temperature</th>\n",
       "    </tr>\n",
       "    <tr>\n",
       "      <th>Datetime</th>\n",
       "      <th></th>\n",
       "    </tr>\n",
       "  </thead>\n",
       "  <tbody>\n",
       "    <tr>\n",
       "      <th>2012-01-01 00:30:00</th>\n",
       "      <td>21.449194</td>\n",
       "    </tr>\n",
       "    <tr>\n",
       "      <th>2012-01-01 01:30:00</th>\n",
       "      <td>21.174410</td>\n",
       "    </tr>\n",
       "  </tbody>\n",
       "</table>\n",
       "</div>"
      ],
      "text/plain": [
       "                     Temperature\n",
       "Datetime                        \n",
       "2012-01-01 00:30:00    21.449194\n",
       "2012-01-01 01:30:00    21.174410"
      ]
     },
     "execution_count": 175,
     "metadata": {},
     "output_type": "execute_result"
    }
   ],
   "source": [
    "Training_Set.head(2)"
   ]
  },
  {
   "cell_type": "code",
   "execution_count": 176,
   "metadata": {},
   "outputs": [
    {
     "name": "stdout",
     "output_type": "stream",
     "text": [
      "(8290, 70, 1)\n",
      "(8290, 1)\n"
     ]
    }
   ],
   "source": [
    "X_Train = []\n",
    "Y_Train = []\n",
    "\n",
    "# Range should be fromm 70 Values to END \n",
    "for i in range(70, Train.shape[0]):\n",
    "    \n",
    "    # X_Train 0-69 \n",
    "    X_Train.append(Train[i-70:i])\n",
    "    \n",
    "    # Y Would be 70 th Value based on past 70 Values \n",
    "    Y_Train.append(Train[i])\n",
    "\n",
    "# Convert into Numpy Array\n",
    "X_Train = np.array(X_Train)\n",
    "Y_Train = np.array(Y_Train)\n",
    "\n",
    "print(X_Train.shape)\n",
    "print(Y_Train.shape)"
   ]
  },
  {
   "cell_type": "code",
   "execution_count": 178,
   "metadata": {},
   "outputs": [
    {
     "data": {
      "text/plain": [
       "(8290, 70, 1)"
      ]
     },
     "execution_count": 178,
     "metadata": {},
     "output_type": "execute_result"
    }
   ],
   "source": [
    "# Shape should be Number of [Datapoints , Steps , 1 )\n",
    "# we convert into 3-d Vector or #rd Dimesnsion\n",
    "X_Train = np.reshape(X_Train, newshape=(X_Train.shape[0], X_Train.shape[1], 1))\n",
    "X_Train.shape"
   ]
  },
  {
   "cell_type": "code",
   "execution_count": 179,
   "metadata": {},
   "outputs": [],
   "source": [
    "regressor = Sequential()\n",
    "\n",
    "# Adding the first LSTM layer and some Dropout regularisation\n",
    "regressor.add(LSTM(units = 50, return_sequences = True, input_shape = (X_Train.shape[1], 1)))\n",
    "regressor.add(Dropout(0.2))\n",
    "\n",
    "# Adding a second LSTM layer and some Dropout regularisation\n",
    "regressor.add(LSTM(units = 5, return_sequences = True))\n",
    "regressor.add(Dropout(0.2))\n",
    "\n",
    "# Adding a third LSTM layer and some Dropout regularisation\n",
    "regressor.add(LSTM(units = 5, return_sequences = True))\n",
    "regressor.add(Dropout(0.2))\n",
    "\n",
    "# Adding a third LSTM layer and some Dropout regularisation\n",
    "regressor.add(LSTM(units = 5, return_sequences = True))\n",
    "regressor.add(Dropout(0.2))\n",
    "\n",
    "# Adding a third LSTM layer and some Dropout regularisation\n",
    "regressor.add(LSTM(units = 5, return_sequences = True))\n",
    "regressor.add(Dropout(0.2))\n",
    "\n",
    "\n",
    "# Adding a third LSTM layer and some Dropout regularisation\n",
    "regressor.add(LSTM(units = 5, return_sequences = True))\n",
    "regressor.add(Dropout(0.2))\n",
    "\n",
    "\n",
    "\n",
    "# Adding a fourth LSTM layer and some Dropout regularisation\n",
    "regressor.add(LSTM(units = 5))\n",
    "regressor.add(Dropout(0.2))\n",
    "\n",
    "# Adding the output \n",
    "regressor.add(Dense(units = 2))\n",
    "\n",
    "# Compiling the RNN\n",
    "regressor.compile(optimizer = 'adam', loss = 'mean_squared_error')"
   ]
  },
  {
   "cell_type": "code",
   "execution_count": 180,
   "metadata": {},
   "outputs": [
    {
     "name": "stdout",
     "output_type": "stream",
     "text": [
      "Epoch 1/2\n",
      "829/829 [==============================] - 125s 151ms/step - loss: 0.0239\n",
      "Epoch 2/2\n",
      "829/829 [==============================] - 124s 150ms/step - loss: 0.0069\n"
     ]
    },
    {
     "data": {
      "text/plain": [
       "<tensorflow.python.keras.callbacks.History at 0x1a3df44150>"
      ]
     },
     "execution_count": 180,
     "metadata": {},
     "output_type": "execute_result"
    }
   ],
   "source": [
    "regressor.fit(X_Train, Y_Train, epochs = 2, batch_size = 10)"
   ]
  },
  {
   "cell_type": "code",
   "execution_count": 181,
   "metadata": {},
   "outputs": [
    {
     "data": {
      "text/html": [
       "<div>\n",
       "<style scoped>\n",
       "    .dataframe tbody tr th:only-of-type {\n",
       "        vertical-align: middle;\n",
       "    }\n",
       "\n",
       "    .dataframe tbody tr th {\n",
       "        vertical-align: top;\n",
       "    }\n",
       "\n",
       "    .dataframe thead th {\n",
       "        text-align: right;\n",
       "    }\n",
       "</style>\n",
       "<table border=\"1\" class=\"dataframe\">\n",
       "  <thead>\n",
       "    <tr style=\"text-align: right;\">\n",
       "      <th></th>\n",
       "      <th>Temperature</th>\n",
       "      <th>Month</th>\n",
       "      <th>Year</th>\n",
       "      <th>Date</th>\n",
       "      <th>Time</th>\n",
       "      <th>Week</th>\n",
       "      <th>Day</th>\n",
       "    </tr>\n",
       "    <tr>\n",
       "      <th>Datetime</th>\n",
       "      <th></th>\n",
       "      <th></th>\n",
       "      <th></th>\n",
       "      <th></th>\n",
       "      <th></th>\n",
       "      <th></th>\n",
       "      <th></th>\n",
       "    </tr>\n",
       "  </thead>\n",
       "  <tbody>\n",
       "    <tr>\n",
       "      <th>2012-12-15 08:30:00</th>\n",
       "      <td>20.726548</td>\n",
       "      <td>12</td>\n",
       "      <td>2012</td>\n",
       "      <td>2012-12-15</td>\n",
       "      <td>08:30:00</td>\n",
       "      <td>50</td>\n",
       "      <td>Saturday</td>\n",
       "    </tr>\n",
       "    <tr>\n",
       "      <th>2012-12-15 09:30:00</th>\n",
       "      <td>23.081047</td>\n",
       "      <td>12</td>\n",
       "      <td>2012</td>\n",
       "      <td>2012-12-15</td>\n",
       "      <td>09:30:00</td>\n",
       "      <td>50</td>\n",
       "      <td>Saturday</td>\n",
       "    </tr>\n",
       "  </tbody>\n",
       "</table>\n",
       "</div>"
      ],
      "text/plain": [
       "                     Temperature  Month  Year        Date      Time  Week  \\\n",
       "Datetime                                                                    \n",
       "2012-12-15 08:30:00    20.726548     12  2012  2012-12-15  08:30:00    50   \n",
       "2012-12-15 09:30:00    23.081047     12  2012  2012-12-15  09:30:00    50   \n",
       "\n",
       "                          Day  \n",
       "Datetime                       \n",
       "2012-12-15 08:30:00  Saturday  \n",
       "2012-12-15 09:30:00  Saturday  "
      ]
     },
     "execution_count": 181,
     "metadata": {},
     "output_type": "execute_result"
    }
   ],
   "source": [
    "TestData.head(2)"
   ]
  },
  {
   "cell_type": "code",
   "execution_count": 182,
   "metadata": {},
   "outputs": [
    {
     "data": {
      "text/plain": [
       "(4262, 4)"
      ]
     },
     "execution_count": 182,
     "metadata": {},
     "output_type": "execute_result"
    }
   ],
   "source": [
    "NewDataSet.shape"
   ]
  },
  {
   "cell_type": "code",
   "execution_count": 184,
   "metadata": {},
   "outputs": [],
   "source": [
    "Df_Total = pd.concat((NewDataSet[[\"Temperature\"]],\n",
    "                      TestData[[\"Temperature\"]]), axis=0)"
   ]
  },
  {
   "cell_type": "code",
   "execution_count": 185,
   "metadata": {},
   "outputs": [
    {
     "data": {
      "text/plain": [
       "(4662, 1)"
      ]
     },
     "execution_count": 185,
     "metadata": {},
     "output_type": "execute_result"
    }
   ],
   "source": [
    "Df_Total.shape"
   ]
  },
  {
   "cell_type": "code",
   "execution_count": 188,
   "metadata": {},
   "outputs": [
    {
     "data": {
      "text/plain": [
       "(470, 1)"
      ]
     },
     "execution_count": 188,
     "metadata": {},
     "output_type": "execute_result"
    }
   ],
   "source": [
    "inputs = Df_Total[len(Df_Total) - len(TestData) - 70:].values\n",
    "inputs.shape"
   ]
  },
  {
   "cell_type": "code",
   "execution_count": 189,
   "metadata": {},
   "outputs": [],
   "source": [
    "inputs = Df_Total[len(Df_Total) - len(TestData) - 70:].values\n",
    "\n",
    "# We need to Reshape\n",
    "inputs = inputs.reshape(-1,1)\n",
    "\n",
    "# Normalize the Dataset\n",
    "inputs = sc.transform(inputs)\n",
    "X_test = []\n",
    "for i in range(60, 460):\n",
    "    X_test.append(inputs[i-60:i])\n",
    "    \n",
    "# Convert into Numpy Array\n",
    "X_test = np.array(X_test)\n",
    "\n",
    "# Reshape before Passing to Network\n",
    "X_test = np.reshape(X_test, (X_test.shape[0], X_test.shape[1], 1))\n",
    "\n",
    "# Pass to Model \n",
    "predicted_Temperature = regressor.predict(X_test)\n",
    "\n",
    "# Do inverse Transformation to get Values \n",
    "predicted_Temperature = sc.inverse_transform(predicted_Temperature)"
   ]
  },
  {
   "cell_type": "code",
   "execution_count": 190,
   "metadata": {},
   "outputs": [],
   "source": [
    "True_Temperature = TestData[\"Temperature\"].to_list()\n",
    "Predicted_Temperature  = predicted_Temperature\n",
    "dates = TestData.index.to_list()"
   ]
  },
  {
   "cell_type": "code",
   "execution_count": 191,
   "metadata": {},
   "outputs": [],
   "source": [
    "Machine_Df = pd.DataFrame(data={\"Date\":dates,\"TrueTemperature\": True_Temperature,\n",
    "                                \"PredictedTemperature\":[x[0] for x in Predicted_Temperature]\n",
    "                               })"
   ]
  },
  {
   "cell_type": "code",
   "execution_count": 195,
   "metadata": {},
   "outputs": [
    {
     "data": {
      "text/html": [
       "<div>\n",
       "<style scoped>\n",
       "    .dataframe tbody tr th:only-of-type {\n",
       "        vertical-align: middle;\n",
       "    }\n",
       "\n",
       "    .dataframe tbody tr th {\n",
       "        vertical-align: top;\n",
       "    }\n",
       "\n",
       "    .dataframe thead th {\n",
       "        text-align: right;\n",
       "    }\n",
       "</style>\n",
       "<table border=\"1\" class=\"dataframe\">\n",
       "  <thead>\n",
       "    <tr style=\"text-align: right;\">\n",
       "      <th></th>\n",
       "      <th>Date</th>\n",
       "      <th>TrueTemperature</th>\n",
       "      <th>PredictedTemperature</th>\n",
       "    </tr>\n",
       "  </thead>\n",
       "  <tbody>\n",
       "    <tr>\n",
       "      <th>380</th>\n",
       "      <td>2012-12-31 04:30:00</td>\n",
       "      <td>20.065229</td>\n",
       "      <td>23.322947</td>\n",
       "    </tr>\n",
       "    <tr>\n",
       "      <th>381</th>\n",
       "      <td>2012-12-31 05:30:00</td>\n",
       "      <td>20.020067</td>\n",
       "      <td>22.326319</td>\n",
       "    </tr>\n",
       "    <tr>\n",
       "      <th>382</th>\n",
       "      <td>2012-12-31 06:30:00</td>\n",
       "      <td>20.107982</td>\n",
       "      <td>21.421196</td>\n",
       "    </tr>\n",
       "    <tr>\n",
       "      <th>383</th>\n",
       "      <td>2012-12-31 07:30:00</td>\n",
       "      <td>21.146930</td>\n",
       "      <td>20.658270</td>\n",
       "    </tr>\n",
       "    <tr>\n",
       "      <th>384</th>\n",
       "      <td>2012-12-31 08:30:00</td>\n",
       "      <td>23.286078</td>\n",
       "      <td>20.084562</td>\n",
       "    </tr>\n",
       "    <tr>\n",
       "      <th>385</th>\n",
       "      <td>2012-12-31 09:30:00</td>\n",
       "      <td>25.344006</td>\n",
       "      <td>19.717243</td>\n",
       "    </tr>\n",
       "    <tr>\n",
       "      <th>386</th>\n",
       "      <td>2012-12-31 10:30:00</td>\n",
       "      <td>26.968634</td>\n",
       "      <td>19.576700</td>\n",
       "    </tr>\n",
       "    <tr>\n",
       "      <th>387</th>\n",
       "      <td>2012-12-31 11:30:00</td>\n",
       "      <td>27.915914</td>\n",
       "      <td>19.683729</td>\n",
       "    </tr>\n",
       "    <tr>\n",
       "      <th>388</th>\n",
       "      <td>2012-12-31 12:30:00</td>\n",
       "      <td>28.313236</td>\n",
       "      <td>20.044136</td>\n",
       "    </tr>\n",
       "    <tr>\n",
       "      <th>389</th>\n",
       "      <td>2012-12-31 13:30:00</td>\n",
       "      <td>28.097669</td>\n",
       "      <td>20.642136</td>\n",
       "    </tr>\n",
       "    <tr>\n",
       "      <th>390</th>\n",
       "      <td>2012-12-31 14:30:00</td>\n",
       "      <td>27.416807</td>\n",
       "      <td>21.435869</td>\n",
       "    </tr>\n",
       "    <tr>\n",
       "      <th>391</th>\n",
       "      <td>2012-12-31 15:30:00</td>\n",
       "      <td>26.583292</td>\n",
       "      <td>22.359299</td>\n",
       "    </tr>\n",
       "    <tr>\n",
       "      <th>392</th>\n",
       "      <td>2012-12-31 16:30:00</td>\n",
       "      <td>25.397439</td>\n",
       "      <td>23.332230</td>\n",
       "    </tr>\n",
       "    <tr>\n",
       "      <th>393</th>\n",
       "      <td>2012-12-31 17:30:00</td>\n",
       "      <td>24.270157</td>\n",
       "      <td>24.319191</td>\n",
       "    </tr>\n",
       "    <tr>\n",
       "      <th>394</th>\n",
       "      <td>2012-12-31 18:30:00</td>\n",
       "      <td>23.796116</td>\n",
       "      <td>25.258516</td>\n",
       "    </tr>\n",
       "    <tr>\n",
       "      <th>395</th>\n",
       "      <td>2012-12-31 19:30:00</td>\n",
       "      <td>23.352176</td>\n",
       "      <td>26.090235</td>\n",
       "    </tr>\n",
       "    <tr>\n",
       "      <th>396</th>\n",
       "      <td>2012-12-31 20:30:00</td>\n",
       "      <td>22.889635</td>\n",
       "      <td>26.761959</td>\n",
       "    </tr>\n",
       "    <tr>\n",
       "      <th>397</th>\n",
       "      <td>2012-12-31 21:30:00</td>\n",
       "      <td>22.499709</td>\n",
       "      <td>27.231283</td>\n",
       "    </tr>\n",
       "    <tr>\n",
       "      <th>398</th>\n",
       "      <td>2012-12-31 22:30:00</td>\n",
       "      <td>22.173667</td>\n",
       "      <td>27.470020</td>\n",
       "    </tr>\n",
       "    <tr>\n",
       "      <th>399</th>\n",
       "      <td>2012-12-31 23:30:00</td>\n",
       "      <td>21.831394</td>\n",
       "      <td>27.464304</td>\n",
       "    </tr>\n",
       "  </tbody>\n",
       "</table>\n",
       "</div>"
      ],
      "text/plain": [
       "                   Date  TrueTemperature  PredictedTemperature\n",
       "380 2012-12-31 04:30:00        20.065229             23.322947\n",
       "381 2012-12-31 05:30:00        20.020067             22.326319\n",
       "382 2012-12-31 06:30:00        20.107982             21.421196\n",
       "383 2012-12-31 07:30:00        21.146930             20.658270\n",
       "384 2012-12-31 08:30:00        23.286078             20.084562\n",
       "385 2012-12-31 09:30:00        25.344006             19.717243\n",
       "386 2012-12-31 10:30:00        26.968634             19.576700\n",
       "387 2012-12-31 11:30:00        27.915914             19.683729\n",
       "388 2012-12-31 12:30:00        28.313236             20.044136\n",
       "389 2012-12-31 13:30:00        28.097669             20.642136\n",
       "390 2012-12-31 14:30:00        27.416807             21.435869\n",
       "391 2012-12-31 15:30:00        26.583292             22.359299\n",
       "392 2012-12-31 16:30:00        25.397439             23.332230\n",
       "393 2012-12-31 17:30:00        24.270157             24.319191\n",
       "394 2012-12-31 18:30:00        23.796116             25.258516\n",
       "395 2012-12-31 19:30:00        23.352176             26.090235\n",
       "396 2012-12-31 20:30:00        22.889635             26.761959\n",
       "397 2012-12-31 21:30:00        22.499709             27.231283\n",
       "398 2012-12-31 22:30:00        22.173667             27.470020\n",
       "399 2012-12-31 23:30:00        21.831394             27.464304"
      ]
     },
     "execution_count": 195,
     "metadata": {},
     "output_type": "execute_result"
    }
   ],
   "source": [
    "Machine_Df.tail(20)"
   ]
  },
  {
   "cell_type": "code",
   "execution_count": 197,
   "metadata": {},
   "outputs": [
    {
     "name": "stdout",
     "output_type": "stream",
     "text": [
      "400 400 400\n"
     ]
    }
   ],
   "source": [
    "print(len(dates),len(True_Temperature),len(X_test))"
   ]
  },
  {
   "cell_type": "code",
   "execution_count": 201,
   "metadata": {},
   "outputs": [
    {
     "data": {
      "image/png": "[encoded data removed]",
      "text/plain": [
       "<Figure size 1440x576 with 1 Axes>"
      ]
     },
     "metadata": {
      "needs_background": "light"
     },
     "output_type": "display_data"
    }
   ],
   "source": [
    "fig, ax = plt.subplots(figsize=(20, 8))\n",
    "\n",
    "# Add x-axis and y-axis\n",
    "ax.plot(Machine_Df['Date'],\n",
    "        Machine_Df['TrueTemperature'],\n",
    "        color='purple')\n",
    "\n",
    "# Set title and labels for axes\n",
    "ax.set(xlabel=\"Datetime\",\n",
    "       ylabel=\"AEP_MW\",\n",
    "       title=\"Daily Total Temperature in July 2018\")\n",
    "\n",
    "plt.show()"
   ]
  },
  {
   "cell_type": "code",
   "execution_count": 233,
   "metadata": {},
   "outputs": [],
   "source": [
    "from datetime import datetime"
   ]
  },
  {
   "cell_type": "code",
   "execution_count": 225,
   "metadata": {},
   "outputs": [],
   "source": [
    "dateTimeObj = datetime.now()"
   ]
  },
  {
   "cell_type": "code",
   "execution_count": 227,
   "metadata": {},
   "outputs": [
    {
     "data": {
      "text/plain": [
       "datetime.datetime(2020, 7, 2, 2, 9, 57, 133051)"
      ]
     },
     "execution_count": 227,
     "metadata": {},
     "output_type": "execute_result"
    }
   ],
   "source": [
    "dateTimeObj"
   ]
  },
  {
   "cell_type": "code",
   "execution_count": 226,
   "metadata": {},
   "outputs": [],
   "source": [
    "timestampStr = dateTimeObj.strftime(\"%d-%b-%Y (%H:%M:%S.%f)\")"
   ]
  },
  {
   "cell_type": "code",
   "execution_count": 228,
   "metadata": {},
   "outputs": [
    {
     "data": {
      "text/plain": [
       "'02-Jul-2020 (02:09:57.133051)'"
      ]
     },
     "execution_count": 228,
     "metadata": {},
     "output_type": "execute_result"
    }
   ],
   "source": [
    "timestampStr"
   ]
  },
  {
   "cell_type": "code",
   "execution_count": null,
   "metadata": {},
   "outputs": [],
   "source": []
  }
 ],
 "metadata": {
  "kernelspec": {
   "display_name": "Python 3",
   "language": "python",
   "name": "python3"
  },
  "language_info": {
   "codemirror_mode": {
    "name": "ipython",
    "version": 3
   },
   "file_extension": ".py",
   "mimetype": "text/x-python",
   "name": "python",
   "nbconvert_exporter": "python",
   "pygments_lexer": "ipython3",
   "version": "3.7.6"
  }
 },
 "nbformat": 4,
 "nbformat_minor": 4
}
